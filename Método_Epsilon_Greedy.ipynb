{
  "nbformat": 4,
  "nbformat_minor": 0,
  "metadata": {
    "colab": {
      "provenance": []
    },
    "kernelspec": {
      "name": "python3",
      "display_name": "Python 3"
    },
    "language_info": {
      "name": "python"
    }
  },
  "cells": [
    {
      "cell_type": "code",
      "execution_count": 2,
      "metadata": {
        "colab": {
          "base_uri": "https://localhost:8080/"
        },
        "id": "KIn30Xo2BypH",
        "outputId": "081aa250-03b0-4b30-afbe-0f22ebfc6559"
      },
      "outputs": [
        {
          "output_type": "stream",
          "name": "stdout",
          "text": [
            "Recompensas estimadas:\n",
            "Ação A: 13\n",
            "Ação B: 3\n",
            "Ação C: 4\n"
          ]
        }
      ],
      "source": [
        "import random\n",
        "\n",
        "epsilon = 0.3\n",
        "\n",
        "actions = ['A', 'B', 'C']\n",
        "\n",
        "rewards = {'A': 0, 'B': 0, 'C': 0}\n",
        "\n",
        "def choose_action():\n",
        "    if random.random() < epsilon:\n",
        "        action = random.choice(actions)\n",
        "    else:\n",
        "        action = max(rewards, key=rewards.get)\n",
        "\n",
        "    return action\n",
        "\n",
        "for _ in range(5):\n",
        "    action = choose_action()\n",
        "\n",
        "    reward = random.randint(0, 5)\n",
        "\n",
        "    rewards[action] += reward\n",
        "\n",
        "print(\"Recompensas estimadas:\")\n",
        "for action, reward in rewards.items():\n",
        "    print(f\"Ação {action}: {reward}\")"
      ]
    }
  ]
}